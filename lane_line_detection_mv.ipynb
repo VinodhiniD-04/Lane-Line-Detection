{
  "cells": [
    {
      "cell_type": "markdown",
      "metadata": {
        "id": "view-in-github",
        "colab_type": "text"
      },
      "source": [
        "<a href=\"https://colab.research.google.com/github/VinodhiniD-04/Lane-Line-Detection/blob/main/lane_line_detection_mv.ipynb\" target=\"_parent\"><img src=\"https://colab.research.google.com/assets/colab-badge.svg\" alt=\"Open In Colab\"/></a>"
      ]
    },
    {
      "cell_type": "code",
      "execution_count": null,
      "metadata": {
        "id": "HkjajVX0mZ7u"
      },
      "outputs": [],
      "source": [
        "import cv2\n",
        "import numpy as np\n",
        "from google.colab.patches import cv2_imshow\n",
        "from numpy.lib.function_base import average\n",
        "\n",
        "\n"
      ]
    },
    {
      "cell_type": "code",
      "source": [
        "def make_coordinates (image, line_parameters):\n",
        "  slope, intercept = line_parameters\n",
        "  print(image.shape)\n",
        "  y1 = image.shape[0]\n",
        "  y2 = int(y1*(3/5))\n",
        "  x1 = int((y1-intercept)/slope)\n",
        "  x2 = int((y2-intercept)/slope)\n",
        "  return np.array([x1,y1,x2,y2])"
      ],
      "metadata": {
        "id": "RX19Nxdgv3qW"
      },
      "execution_count": null,
      "outputs": []
    },
    {
      "cell_type": "code",
      "source": [
        "def average_slope_intercrept(image,line):\n",
        "  left_fit = []\n",
        "  right_fit = []\n",
        "  for line in lines:\n",
        "    x1,y1,x2,y2 = line.reshape(4)\n",
        "    parameters = np.polyfit((x1,x2),(y1,y2),1)\n",
        "    print(parameters)\n",
        "    slope = parameters[0]\n",
        "    intercept = parameters[1]\n",
        "    if slope < 0:\n",
        "      left_fit.append((slope,intercept))\n",
        "    else:\n",
        "      right_fit.append((slope,intercept))\n",
        "  left_fit_average = np.average(left_fit,axis=0)\n",
        "  right_fit_average = np.average(right_fit,axis=0)\n",
        "  left_line = make_coordinates(image,left_fit_average)\n",
        "  right_line = make_coordinates(image,right_fit_average)\n",
        "  return np.array([left_line, right_line])"
      ],
      "metadata": {
        "id": "6Nc3heqjwAsV"
      },
      "execution_count": null,
      "outputs": []
    },
    {
      "cell_type": "code",
      "source": [
        "def canny(image):\n",
        "  hls = cv2.cvtColor(image,cv2.COLOR_BGR2HLS)\n",
        "  blur = cv2.GaussianBlur(hls,(5,5),0)\n",
        "  canny = cv2.Canny(blur,50,150)\n",
        "  return canny"
      ],
      "metadata": {
        "id": "zn5pRZGowF5k"
      },
      "execution_count": null,
      "outputs": []
    },
    {
      "cell_type": "code",
      "source": [
        "def display_lines (image,lines):\n",
        "  line_image = np.zeros_like(image)\n",
        "  if lines is not None:\n",
        "    for line in lines:\n",
        "      x1, y1, x2, y2 = line.reshape(4)\n",
        "      cv2.line(line_image,(x1,y1),(x2,y2),(255,0,0),10)\n",
        "  return line_image\n"
      ],
      "metadata": {
        "id": "rc6FMlTRwHCW"
      },
      "execution_count": null,
      "outputs": []
    },
    {
      "cell_type": "code",
      "source": [
        "def region_of_interest(image):\n",
        "  height = image.shape[0]\n",
        "  polygons = np.array([[(0,height),(900,height),(500,260)]])\n",
        "  mask = np.zeros_like(image)\n",
        "  cv2.fillPoly(mask, polygons,255)\n",
        "  masked_image = cv2.bitwise_and(image,mask)\n",
        "  return masked_image"
      ],
      "metadata": {
        "id": "TZwMm4c0wbae"
      },
      "execution_count": null,
      "outputs": []
    },
    {
      "cell_type": "code",
      "source": [
        "image= cv2.imread('solidYellowLeftlane.jpg')\n",
        "lane_image = np.copy(image)\n",
        "canny_image = canny(lane_image)\n",
        "cropped_image = region_of_interest(canny_image)\n",
        "rho = 2\n",
        "theta = np.pi/180\n",
        "threshold = 100\n",
        "min_line_length = 40\n",
        "max_line_gap = 30\n",
        "lines = cv2.HoughLinesP(cropped_image, rho, theta, threshold, np.array([]),min_line_length, max_line_gap)\n",
        "averaged_lines = average_slope_intercrept(lane_image,lines)\n",
        "line_image = display_lines(lane_image, averaged_lines)\n",
        "combo_image = cv2.addWeighted(lane_image, 0.8, line_image,1,1)\n",
        "cv2_imshow(combo_image)"
      ],
      "metadata": {
        "colab": {
          "base_uri": "https://localhost:8080/",
          "height": 408
        },
        "id": "_Qf8Ug4RwmB2",
        "outputId": "356f8c43-9690-4791-c474-0448e3222204"
      },
      "execution_count": null,
      "outputs": [
        {
          "output_type": "error",
          "ename": "error",
          "evalue": "ignored",
          "traceback": [
            "\u001b[0;31m---------------------------------------------------------------------------\u001b[0m",
            "\u001b[0;31merror\u001b[0m                                     Traceback (most recent call last)",
            "\u001b[0;32m<ipython-input-7-f0c4bb651d44>\u001b[0m in \u001b[0;36m<cell line: 3>\u001b[0;34m()\u001b[0m\n\u001b[1;32m      1\u001b[0m \u001b[0mimage\u001b[0m\u001b[0;34m=\u001b[0m \u001b[0mcv2\u001b[0m\u001b[0;34m.\u001b[0m\u001b[0mimread\u001b[0m\u001b[0;34m(\u001b[0m\u001b[0;34m'solidYellowLeftlane.jpg'\u001b[0m\u001b[0;34m)\u001b[0m\u001b[0;34m\u001b[0m\u001b[0;34m\u001b[0m\u001b[0m\n\u001b[1;32m      2\u001b[0m \u001b[0mlane_image\u001b[0m \u001b[0;34m=\u001b[0m \u001b[0mnp\u001b[0m\u001b[0;34m.\u001b[0m\u001b[0mcopy\u001b[0m\u001b[0;34m(\u001b[0m\u001b[0mimage\u001b[0m\u001b[0;34m)\u001b[0m\u001b[0;34m\u001b[0m\u001b[0;34m\u001b[0m\u001b[0m\n\u001b[0;32m----> 3\u001b[0;31m \u001b[0mcanny_image\u001b[0m \u001b[0;34m=\u001b[0m \u001b[0mcanny\u001b[0m\u001b[0;34m(\u001b[0m\u001b[0mlane_image\u001b[0m\u001b[0;34m)\u001b[0m\u001b[0;34m\u001b[0m\u001b[0;34m\u001b[0m\u001b[0m\n\u001b[0m\u001b[1;32m      4\u001b[0m \u001b[0mcropped_image\u001b[0m \u001b[0;34m=\u001b[0m \u001b[0mregion_of_interest\u001b[0m\u001b[0;34m(\u001b[0m\u001b[0mcanny_image\u001b[0m\u001b[0;34m)\u001b[0m\u001b[0;34m\u001b[0m\u001b[0;34m\u001b[0m\u001b[0m\n\u001b[1;32m      5\u001b[0m \u001b[0mrho\u001b[0m \u001b[0;34m=\u001b[0m \u001b[0;36m2\u001b[0m\u001b[0;34m\u001b[0m\u001b[0;34m\u001b[0m\u001b[0m\n",
            "\u001b[0;32m<ipython-input-4-6ea5b141821c>\u001b[0m in \u001b[0;36mcanny\u001b[0;34m(image)\u001b[0m\n\u001b[1;32m      1\u001b[0m \u001b[0;32mdef\u001b[0m \u001b[0mcanny\u001b[0m\u001b[0;34m(\u001b[0m\u001b[0mimage\u001b[0m\u001b[0;34m)\u001b[0m\u001b[0;34m:\u001b[0m\u001b[0;34m\u001b[0m\u001b[0;34m\u001b[0m\u001b[0m\n\u001b[0;32m----> 2\u001b[0;31m   \u001b[0mhls\u001b[0m \u001b[0;34m=\u001b[0m \u001b[0mcv2\u001b[0m\u001b[0;34m.\u001b[0m\u001b[0mcvtColor\u001b[0m\u001b[0;34m(\u001b[0m\u001b[0mimage\u001b[0m\u001b[0;34m,\u001b[0m\u001b[0mcv2\u001b[0m\u001b[0;34m.\u001b[0m\u001b[0mCOLOR_BGR2HLS\u001b[0m\u001b[0;34m)\u001b[0m\u001b[0;34m\u001b[0m\u001b[0;34m\u001b[0m\u001b[0m\n\u001b[0m\u001b[1;32m      3\u001b[0m   \u001b[0mblur\u001b[0m \u001b[0;34m=\u001b[0m \u001b[0mcv2\u001b[0m\u001b[0;34m.\u001b[0m\u001b[0mGaussianBlur\u001b[0m\u001b[0;34m(\u001b[0m\u001b[0mhls\u001b[0m\u001b[0;34m,\u001b[0m\u001b[0;34m(\u001b[0m\u001b[0;36m5\u001b[0m\u001b[0;34m,\u001b[0m\u001b[0;36m5\u001b[0m\u001b[0;34m)\u001b[0m\u001b[0;34m,\u001b[0m\u001b[0;36m0\u001b[0m\u001b[0;34m)\u001b[0m\u001b[0;34m\u001b[0m\u001b[0;34m\u001b[0m\u001b[0m\n\u001b[1;32m      4\u001b[0m   \u001b[0mcanny\u001b[0m \u001b[0;34m=\u001b[0m \u001b[0mcv2\u001b[0m\u001b[0;34m.\u001b[0m\u001b[0mCanny\u001b[0m\u001b[0;34m(\u001b[0m\u001b[0mblur\u001b[0m\u001b[0;34m,\u001b[0m\u001b[0;36m50\u001b[0m\u001b[0;34m,\u001b[0m\u001b[0;36m150\u001b[0m\u001b[0;34m)\u001b[0m\u001b[0;34m\u001b[0m\u001b[0;34m\u001b[0m\u001b[0m\n\u001b[1;32m      5\u001b[0m   \u001b[0;32mreturn\u001b[0m \u001b[0mcanny\u001b[0m\u001b[0;34m\u001b[0m\u001b[0;34m\u001b[0m\u001b[0m\n",
            "\u001b[0;31merror\u001b[0m: OpenCV(4.7.0) :-1: error: (-5:Bad argument) in function 'cvtColor'\n> Overload resolution failed:\n>  - src data type = 17 is not supported\n>  - Expected Ptr<cv::UMat> for argument 'src'\n"
          ]
        }
      ]
    },
    {
      "cell_type": "code",
      "source": [],
      "metadata": {
        "id": "9QobyTwseTLk"
      },
      "execution_count": null,
      "outputs": []
    }
  ],
  "metadata": {
    "colab": {
      "provenance": [],
      "authorship_tag": "ABX9TyPXX+bEgdpjmuvwVIbwhvj4",
      "include_colab_link": true
    },
    "kernelspec": {
      "display_name": "Python 3",
      "name": "python3"
    },
    "language_info": {
      "name": "python"
    }
  },
  "nbformat": 4,
  "nbformat_minor": 0
}